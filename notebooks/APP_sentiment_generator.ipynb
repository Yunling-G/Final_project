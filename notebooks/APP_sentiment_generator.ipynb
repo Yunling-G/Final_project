{
 "cells": [
  {
   "cell_type": "code",
   "execution_count": 1,
   "id": "cffce4c5",
   "metadata": {},
   "outputs": [],
   "source": [
    "%run sentiment_generator.py"
   ]
  },
  {
   "cell_type": "markdown",
   "id": "31896bf1",
   "metadata": {},
   "source": [
    "<img src=\"logo.png\" width=\"800\" height = '300'  >"
   ]
  },
  {
   "cell_type": "code",
   "execution_count": null,
   "id": "736d7ca8",
   "metadata": {},
   "outputs": [],
   "source": [
    "sentiment_generator()"
   ]
  }
 ],
 "metadata": {
  "kernelspec": {
   "display_name": "Ironhack-Frinal-Project",
   "language": "python",
   "name": "ironhack-frinal-project"
  },
  "language_info": {
   "codemirror_mode": {
    "name": "ipython",
    "version": 3
   },
   "file_extension": ".py",
   "mimetype": "text/x-python",
   "name": "python",
   "nbconvert_exporter": "python",
   "pygments_lexer": "ipython3",
   "version": "3.9.16"
  }
 },
 "nbformat": 4,
 "nbformat_minor": 5
}
