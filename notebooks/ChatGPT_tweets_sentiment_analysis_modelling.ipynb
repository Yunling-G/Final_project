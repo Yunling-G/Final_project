{
 "cells": [
  {
   "cell_type": "code",
   "execution_count": 1,
   "id": "3f8db8a4",
   "metadata": {},
   "outputs": [],
   "source": [
    "import pandas as pd\n",
    "import numpy as np\n",
    "import warnings\n",
    "warnings.filterwarnings('ignore')\n",
    "from matplotlib import pyplot as plt\n",
    "import seaborn as sns\n",
    "pd.set_option('display.max_columns', None)"
   ]
  },
  {
   "cell_type": "code",
   "execution_count": 2,
   "id": "1af21b2e",
   "metadata": {},
   "outputs": [
    {
     "name": "stderr",
     "output_type": "stream",
     "text": [
      "[nltk_data] Downloading package stopwords to\n",
      "[nltk_data]     /Users/yunlingge/nltk_data...\n",
      "[nltk_data]   Package stopwords is already up-to-date!\n"
     ]
    }
   ],
   "source": [
    "import nltk\n",
    "nltk.download('stopwords')\n",
    "from nltk.corpus import stopwords"
   ]
  },
  {
   "cell_type": "code",
   "execution_count": 3,
   "id": "94644089",
   "metadata": {},
   "outputs": [],
   "source": [
    "from imblearn.under_sampling import RandomUnderSampler"
   ]
  },
  {
   "cell_type": "code",
   "execution_count": 4,
   "id": "7a939d13",
   "metadata": {},
   "outputs": [],
   "source": [
    "from sklearn.model_selection import train_test_split\n",
    "from sklearn.ensemble import RandomForestClassifier\n",
    "from sklearn.model_selection import GridSearchCV\n",
    "from sklearn.metrics import cohen_kappa_score, classification_report\n",
    "from sklearn.linear_model import LogisticRegression\n",
    "from sklearn.naive_bayes import MultinomialNB"
   ]
  },
  {
   "cell_type": "code",
   "execution_count": 5,
   "id": "ef951fd3",
   "metadata": {},
   "outputs": [],
   "source": [
    "data = pd.read_csv('../data/clean data/data_cleaned.csv')"
   ]
  },
  {
   "cell_type": "code",
   "execution_count": 6,
   "id": "af3c4f98",
   "metadata": {},
   "outputs": [
    {
     "data": {
      "text/html": [
       "<div>\n",
       "<style scoped>\n",
       "    .dataframe tbody tr th:only-of-type {\n",
       "        vertical-align: middle;\n",
       "    }\n",
       "\n",
       "    .dataframe tbody tr th {\n",
       "        vertical-align: top;\n",
       "    }\n",
       "\n",
       "    .dataframe thead th {\n",
       "        text-align: right;\n",
       "    }\n",
       "</style>\n",
       "<table border=\"1\" class=\"dataframe\">\n",
       "  <thead>\n",
       "    <tr style=\"text-align: right;\">\n",
       "      <th></th>\n",
       "      <th>labels</th>\n",
       "      <th>tweets_cleaned</th>\n",
       "    </tr>\n",
       "  </thead>\n",
       "  <tbody>\n",
       "    <tr>\n",
       "      <th>0</th>\n",
       "      <td>neutral</td>\n",
       "      <td>optimizing language model dialogue openai</td>\n",
       "    </tr>\n",
       "    <tr>\n",
       "      <th>1</th>\n",
       "      <td>good</td>\n",
       "      <td>try talking new ai system optimized dialogue h...</td>\n",
       "    </tr>\n",
       "    <tr>\n",
       "      <th>2</th>\n",
       "      <td>neutral</td>\n",
       "      <td>optimizing language model dialogue ai machinel...</td>\n",
       "    </tr>\n",
       "    <tr>\n",
       "      <th>3</th>\n",
       "      <td>good</td>\n",
       "      <td>share new model optimized dialog public everyone</td>\n",
       "    </tr>\n",
       "    <tr>\n",
       "      <th>4</th>\n",
       "      <td>bad</td>\n",
       "      <td>minute ago openai released new use right</td>\n",
       "    </tr>\n",
       "  </tbody>\n",
       "</table>\n",
       "</div>"
      ],
      "text/plain": [
       "    labels                                     tweets_cleaned\n",
       "0  neutral          optimizing language model dialogue openai\n",
       "1     good  try talking new ai system optimized dialogue h...\n",
       "2  neutral  optimizing language model dialogue ai machinel...\n",
       "3     good   share new model optimized dialog public everyone\n",
       "4      bad           minute ago openai released new use right"
      ]
     },
     "execution_count": 6,
     "metadata": {},
     "output_type": "execute_result"
    }
   ],
   "source": [
    "data.head()"
   ]
  },
  {
   "cell_type": "code",
   "execution_count": 7,
   "id": "6373e65f",
   "metadata": {},
   "outputs": [
    {
     "data": {
      "text/plain": [
       "(215764, 2)"
      ]
     },
     "execution_count": 7,
     "metadata": {},
     "output_type": "execute_result"
    }
   ],
   "source": [
    "data.shape"
   ]
  },
  {
   "cell_type": "code",
   "execution_count": 8,
   "id": "6616c834",
   "metadata": {},
   "outputs": [
    {
     "data": {
      "text/html": [
       "<div>\n",
       "<style scoped>\n",
       "    .dataframe tbody tr th:only-of-type {\n",
       "        vertical-align: middle;\n",
       "    }\n",
       "\n",
       "    .dataframe tbody tr th {\n",
       "        vertical-align: top;\n",
       "    }\n",
       "\n",
       "    .dataframe thead th {\n",
       "        text-align: right;\n",
       "    }\n",
       "</style>\n",
       "<table border=\"1\" class=\"dataframe\">\n",
       "  <thead>\n",
       "    <tr style=\"text-align: right;\">\n",
       "      <th></th>\n",
       "      <th>labels</th>\n",
       "      <th>tweets_cleaned</th>\n",
       "    </tr>\n",
       "  </thead>\n",
       "  <tbody>\n",
       "    <tr>\n",
       "      <th>count</th>\n",
       "      <td>215764</td>\n",
       "      <td>215764</td>\n",
       "    </tr>\n",
       "    <tr>\n",
       "      <th>unique</th>\n",
       "      <td>3</td>\n",
       "      <td>185528</td>\n",
       "    </tr>\n",
       "    <tr>\n",
       "      <th>top</th>\n",
       "      <td>bad</td>\n",
       "      <td>midjourney openai gpt join</td>\n",
       "    </tr>\n",
       "    <tr>\n",
       "      <th>freq</th>\n",
       "      <td>104843</td>\n",
       "      <td>467</td>\n",
       "    </tr>\n",
       "  </tbody>\n",
       "</table>\n",
       "</div>"
      ],
      "text/plain": [
       "        labels              tweets_cleaned\n",
       "count   215764                      215764\n",
       "unique       3                      185528\n",
       "top        bad  midjourney openai gpt join\n",
       "freq    104843                         467"
      ]
     },
     "execution_count": 8,
     "metadata": {},
     "output_type": "execute_result"
    }
   ],
   "source": [
    "data.describe()"
   ]
  },
  {
   "cell_type": "code",
   "execution_count": 9,
   "id": "007658b8",
   "metadata": {},
   "outputs": [
    {
     "name": "stdout",
     "output_type": "stream",
     "text": [
      "<class 'pandas.core.frame.DataFrame'>\n",
      "RangeIndex: 215764 entries, 0 to 215763\n",
      "Data columns (total 2 columns):\n",
      " #   Column          Non-Null Count   Dtype \n",
      "---  ------          --------------   ----- \n",
      " 0   labels          215764 non-null  object\n",
      " 1   tweets_cleaned  215764 non-null  object\n",
      "dtypes: object(2)\n",
      "memory usage: 3.3+ MB\n"
     ]
    }
   ],
   "source": [
    "data.info()"
   ]
  },
  {
   "cell_type": "code",
   "execution_count": 10,
   "id": "3fd9e732",
   "metadata": {},
   "outputs": [
    {
     "data": {
      "text/plain": [
       "bad        0.485915\n",
       "good       0.258889\n",
       "neutral    0.255195\n",
       "Name: labels, dtype: float64"
      ]
     },
     "execution_count": 10,
     "metadata": {},
     "output_type": "execute_result"
    }
   ],
   "source": [
    "data['labels'].value_counts(normalize=True)"
   ]
  },
  {
   "cell_type": "markdown",
   "id": "ea9cb9c2",
   "metadata": {},
   "source": [
    "# Train_test_split"
   ]
  },
  {
   "cell_type": "code",
   "execution_count": 11,
   "id": "aff19a6b",
   "metadata": {},
   "outputs": [],
   "source": [
    "df = data.copy()"
   ]
  },
  {
   "cell_type": "code",
   "execution_count": 12,
   "id": "20638081",
   "metadata": {},
   "outputs": [],
   "source": [
    "X = df['tweets_cleaned']\n",
    "y = df['labels']"
   ]
  },
  {
   "cell_type": "code",
   "execution_count": 13,
   "id": "326c8c44",
   "metadata": {},
   "outputs": [],
   "source": [
    "X_train,X_test,y_train,y_test = train_test_split(X,y,test_size =0.2,random_state=42)"
   ]
  },
  {
   "cell_type": "code",
   "execution_count": 14,
   "id": "88d9bdd5",
   "metadata": {},
   "outputs": [],
   "source": [
    "X_train = pd.DataFrame(X_train, columns=['tweets_cleaned'])\n",
    "X_test  = pd.DataFrame(X_test, columns=['tweets_cleaned'])\n",
    "\n",
    "y_train = pd.DataFrame(y_train, columns =['labels'])\n",
    "y_test  = pd.DataFrame(y_test, columns =['labels'])"
   ]
  },
  {
   "cell_type": "markdown",
   "id": "f6d435a4",
   "metadata": {},
   "source": [
    "# Downsampling"
   ]
  },
  {
   "cell_type": "markdown",
   "id": "e66f1a78",
   "metadata": {},
   "source": [
    "- perform downsampling after the train-test split to avoid data leakage. Thus,I only do downsampling for train set."
   ]
  },
  {
   "cell_type": "code",
   "execution_count": 15,
   "id": "69cfd0b2",
   "metadata": {},
   "outputs": [],
   "source": [
    "from imblearn.under_sampling import RandomUnderSampler\n",
    "\n",
    "rus = RandomUnderSampler(random_state=42)\n",
    "X_train_res, y_train_res = rus.fit_resample(X_train, y_train)\n",
    "\n",
    "X_train_res = pd.DataFrame(X_train_res, columns= X_train.columns)\n",
    "y_train_res = pd.DataFrame(y_train_res, columns =['labels']) "
   ]
  },
  {
   "cell_type": "code",
   "execution_count": 16,
   "id": "ddcd89df",
   "metadata": {},
   "outputs": [
    {
     "name": "stdout",
     "output_type": "stream",
     "text": [
      "(132372, 1)\n",
      "(132372, 1)\n"
     ]
    }
   ],
   "source": [
    "print(X_train_res.shape)\n",
    "print(y_train_res.shape)"
   ]
  },
  {
   "cell_type": "code",
   "execution_count": 17,
   "id": "ebc0ae4d",
   "metadata": {},
   "outputs": [
    {
     "data": {
      "text/plain": [
       "bad        44124\n",
       "good       44124\n",
       "neutral    44124\n",
       "Name: labels, dtype: int64"
      ]
     },
     "execution_count": 17,
     "metadata": {},
     "output_type": "execute_result"
    }
   ],
   "source": [
    "y_train_res['labels'].value_counts()"
   ]
  },
  {
   "cell_type": "code",
   "execution_count": 18,
   "id": "9f6e6e21",
   "metadata": {},
   "outputs": [
    {
     "data": {
      "text/plain": [
       "<Axes: xlabel='labels', ylabel='count'>"
      ]
     },
     "execution_count": 18,
     "metadata": {},
     "output_type": "execute_result"
    },
    {
     "data": {
      "image/png": "[encoded data removed]",
      "text/plain": [
       "<Figure size 600x400 with 1 Axes>"
      ]
     },
     "metadata": {},
     "output_type": "display_data"
    }
   ],
   "source": [
    "plt.figure(figsize=(6,4))\n",
    "sns.countplot(x='labels',data=y_train_res)"
   ]
  },
  {
   "cell_type": "markdown",
   "id": "b16e0443",
   "metadata": {},
   "source": [
    "# TfidfVectorizer"
   ]
  },
  {
   "cell_type": "code",
   "execution_count": 19,
   "id": "49dd01c5",
   "metadata": {},
   "outputs": [],
   "source": [
    "stop_words = list(stopwords.words('english'))"
   ]
  },
  {
   "cell_type": "code",
   "execution_count": 20,
   "id": "4c1e835a",
   "metadata": {},
   "outputs": [],
   "source": [
    "from sklearn.feature_extraction.text import TfidfVectorizer\n",
    "\n",
    "vect = TfidfVectorizer(max_features = 20000, analyzer = 'word',\n",
    "                       stop_words = stop_words)\n",
    "\n",
    "X_train_tf = vect.fit_transform(X_train_res['tweets_cleaned'])\n",
    "\n",
    "X_test_tf = vect.transform(X_test['tweets_cleaned'])"
   ]
  },
  {
   "cell_type": "code",
   "execution_count": 21,
   "id": "ce18c478",
   "metadata": {},
   "outputs": [
    {
     "data": {
      "text/plain": [
       "0    covering ai wild year ai beat venturebeatopena...\n",
       "1    introducing aidle mashup word game wordle prom...\n",
       "2    got point automated trope system typical regur...\n",
       "3    world developer think used write develop devel...\n",
       "4                                              ruining\n",
       "Name: tweets_cleaned, dtype: object"
      ]
     },
     "execution_count": 21,
     "metadata": {},
     "output_type": "execute_result"
    }
   ],
   "source": [
    "X_train_res['tweets_cleaned'].head()"
   ]
  },
  {
   "cell_type": "code",
   "execution_count": 22,
   "id": "1d28a291",
   "metadata": {},
   "outputs": [],
   "source": [
    "# save the vectorizer with pickle\n",
    "import pickle\n",
    "filename = \"../vectorizer/vectorizer.pickle\" \n",
    "\n",
    "with open(filename, \"wb\") as file:\n",
    "        pickle.dump(vect,file)"
   ]
  },
  {
   "cell_type": "code",
   "execution_count": 23,
   "id": "0a73f52c",
   "metadata": {},
   "outputs": [
    {
     "data": {
      "text/plain": [
       "matrix([[0., 0., 0., ..., 0., 0., 0.],\n",
       "        [0., 0., 0., ..., 0., 0., 0.],\n",
       "        [0., 0., 0., ..., 0., 0., 0.],\n",
       "        ...,\n",
       "        [0., 0., 0., ..., 0., 0., 0.],\n",
       "        [0., 0., 0., ..., 0., 0., 0.],\n",
       "        [0., 0., 0., ..., 0., 0., 0.]])"
      ]
     },
     "execution_count": 23,
     "metadata": {},
     "output_type": "execute_result"
    }
   ],
   "source": [
    "X_train_tf.todense()"
   ]
  },
  {
   "cell_type": "code",
   "execution_count": 24,
   "id": "1b44f382",
   "metadata": {},
   "outputs": [],
   "source": [
    "#vect.get_feature_names_out().tolist()"
   ]
  },
  {
   "cell_type": "code",
   "execution_count": 25,
   "id": "7a61138f",
   "metadata": {},
   "outputs": [
    {
     "data": {
      "text/plain": [
       "20000"
      ]
     },
     "execution_count": 25,
     "metadata": {},
     "output_type": "execute_result"
    }
   ],
   "source": [
    "len(vect.get_feature_names_out())"
   ]
  },
  {
   "cell_type": "markdown",
   "id": "a5e96f61",
   "metadata": {},
   "source": [
    "# Modelling"
   ]
  },
  {
   "cell_type": "code",
   "execution_count": 26,
   "id": "f5bf8038",
   "metadata": {},
   "outputs": [
    {
     "data": {
      "text/html": [
       "<div>\n",
       "<style scoped>\n",
       "    .dataframe tbody tr th:only-of-type {\n",
       "        vertical-align: middle;\n",
       "    }\n",
       "\n",
       "    .dataframe tbody tr th {\n",
       "        vertical-align: top;\n",
       "    }\n",
       "\n",
       "    .dataframe thead th {\n",
       "        text-align: right;\n",
       "    }\n",
       "</style>\n",
       "<table border=\"1\" class=\"dataframe\">\n",
       "  <thead>\n",
       "    <tr style=\"text-align: right;\">\n",
       "      <th></th>\n",
       "      <th>labels</th>\n",
       "      <th>tweets_cleaned</th>\n",
       "    </tr>\n",
       "  </thead>\n",
       "  <tbody>\n",
       "    <tr>\n",
       "      <th>0</th>\n",
       "      <td>1</td>\n",
       "      <td>optimizing language model dialogue openai</td>\n",
       "    </tr>\n",
       "    <tr>\n",
       "      <th>1</th>\n",
       "      <td>2</td>\n",
       "      <td>try talking new ai system optimized dialogue h...</td>\n",
       "    </tr>\n",
       "    <tr>\n",
       "      <th>2</th>\n",
       "      <td>1</td>\n",
       "      <td>optimizing language model dialogue ai machinel...</td>\n",
       "    </tr>\n",
       "    <tr>\n",
       "      <th>3</th>\n",
       "      <td>2</td>\n",
       "      <td>share new model optimized dialog public everyone</td>\n",
       "    </tr>\n",
       "    <tr>\n",
       "      <th>4</th>\n",
       "      <td>0</td>\n",
       "      <td>minute ago openai released new use right</td>\n",
       "    </tr>\n",
       "  </tbody>\n",
       "</table>\n",
       "</div>"
      ],
      "text/plain": [
       "   labels                                     tweets_cleaned\n",
       "0       1          optimizing language model dialogue openai\n",
       "1       2  try talking new ai system optimized dialogue h...\n",
       "2       1  optimizing language model dialogue ai machinel...\n",
       "3       2   share new model optimized dialog public everyone\n",
       "4       0           minute ago openai released new use right"
      ]
     },
     "execution_count": 26,
     "metadata": {},
     "output_type": "execute_result"
    }
   ],
   "source": [
    "label_map = {\n",
    "    'good':2,\n",
    "    'neutral':1,\n",
    "    'bad':0\n",
    "}\n",
    "\n",
    "df['labels'] = df['labels'].map(label_map)\n",
    "df.head()"
   ]
  },
  {
   "cell_type": "markdown",
   "id": "409ca3b1",
   "metadata": {},
   "source": [
    "## Random Forests"
   ]
  },
  {
   "cell_type": "markdown",
   "id": "4da7f163",
   "metadata": {},
   "source": [
    "- Hyperparameter tuning"
   ]
  },
  {
   "cell_type": "code",
   "execution_count": 27,
   "id": "be14485e",
   "metadata": {},
   "outputs": [],
   "source": [
    "def model_performance_class(y_train, y_pred_train, y_test, y_pred_test):\n",
    " \n",
    "\n",
    "    print(\"Results obtained for the TRAIN SET\")\n",
    "    print(\"==================================\")\n",
    "    print(\"The Cohen's Kappa is: {:.2f}\".format(cohen_kappa_score(y_train, y_pred_train)))\n",
    "    print(classification_report(y_train, y_pred_train))\n",
    "    print(\"==================================\")\n",
    "    print(\"Results obtained for the TEST SET\")\n",
    "    print(\"The Cohen's Kappa is: {:.2f}\".format(cohen_kappa_score(y_test, y_pred_test)))\n",
    "    print(classification_report(y_test, y_pred_test))"
   ]
  },
  {
   "cell_type": "code",
   "execution_count": 28,
   "id": "05e9dec0",
   "metadata": {},
   "outputs": [
    {
     "name": "stdout",
     "output_type": "stream",
     "text": [
      "Results obtained for the TRAIN SET\n",
      "==================================\n",
      "The Cohen's Kappa is: 0.45\n",
      "              precision    recall  f1-score   support\n",
      "\n",
      "         bad       0.58      0.90      0.70     44124\n",
      "        good       0.69      0.72      0.71     44124\n",
      "     neutral       0.71      0.29      0.41     44124\n",
      "\n",
      "    accuracy                           0.64    132372\n",
      "   macro avg       0.66      0.64      0.61    132372\n",
      "weighted avg       0.66      0.64      0.61    132372\n",
      "\n",
      "==================================\n",
      "Results obtained for the TEST SET\n",
      "The Cohen's Kappa is: 0.48\n",
      "              precision    recall  f1-score   support\n",
      "\n",
      "         bad       0.71      0.90      0.79     20987\n",
      "        good       0.65      0.70      0.67     11228\n",
      "     neutral       0.61      0.26      0.37     10938\n",
      "\n",
      "    accuracy                           0.69     43153\n",
      "   macro avg       0.66      0.62      0.61     43153\n",
      "weighted avg       0.67      0.69      0.66     43153\n",
      "\n"
     ]
    }
   ],
   "source": [
    "from sklearn.ensemble import RandomForestClassifier\n",
    "from sklearn.model_selection import GridSearchCV\n",
    "grid = {'max_depth': [3,6,9],\n",
    "        'n_estimators': [30,100,300]}\n",
    "\n",
    "rf = RandomForestClassifier()\n",
    "\n",
    "grid_search = GridSearchCV(estimator = rf, param_grid = grid, cv = 5)\n",
    "grid_search.fit(X_train_tf, y_train_res)\n",
    "\n",
    "y_train_pred_rf = grid_search.predict(X_train_tf)\n",
    "y_test_pred_rf  = grid_search.predict(X_test_tf)\n",
    "\n",
    "model_performance_class(y_train_res, y_train_pred_rf, y_test, y_test_pred_rf)"
   ]
  },
  {
   "cell_type": "markdown",
   "id": "d474b0eb",
   "metadata": {},
   "source": [
    "## Logistic Regression"
   ]
  },
  {
   "cell_type": "code",
   "execution_count": 29,
   "id": "78968697",
   "metadata": {},
   "outputs": [
    {
     "name": "stdout",
     "output_type": "stream",
     "text": [
      "Results obtained for the TRAIN SET\n",
      "==================================\n",
      "The Cohen's Kappa is: 0.70\n",
      "              precision    recall  f1-score   support\n",
      "\n",
      "         bad       0.80      0.90      0.85     44124\n",
      "        good       0.83      0.80      0.82     44124\n",
      "     neutral       0.76      0.70      0.73     44124\n",
      "\n",
      "    accuracy                           0.80    132372\n",
      "   macro avg       0.80      0.80      0.80    132372\n",
      "weighted avg       0.80      0.80      0.80    132372\n",
      "\n",
      "==================================\n",
      "Results obtained for the TEST SET\n",
      "The Cohen's Kappa is: 0.63\n",
      "              precision    recall  f1-score   support\n",
      "\n",
      "         bad       0.86      0.86      0.86     20987\n",
      "        good       0.75      0.75      0.75     11228\n",
      "     neutral       0.60      0.60      0.60     10938\n",
      "\n",
      "    accuracy                           0.77     43153\n",
      "   macro avg       0.74      0.74      0.74     43153\n",
      "weighted avg       0.77      0.77      0.77     43153\n",
      "\n"
     ]
    }
   ],
   "source": [
    "from sklearn.linear_model import LogisticRegression\n",
    "\n",
    "grid_lr = {'C': np.logspace(-3, 1, 10),\n",
    "          'penalty': ['l1','l2']}\n",
    "\n",
    "lr = LogisticRegression()\n",
    "\n",
    "grid_search_lr = GridSearchCV(estimator = lr, param_grid = grid_lr, cv = 5)\n",
    "\n",
    "grid_search_lr.fit(X_train_tf, y_train_res)\n",
    "\n",
    "y_train_pred_lr = grid_search_lr.predict(X_train_tf)\n",
    "y_test_pred_lr  = grid_search_lr.predict(X_test_tf)\n",
    "\n",
    "model_performance_class(y_train_res, y_train_pred_lr, y_test, y_test_pred_lr)"
   ]
  },
  {
   "cell_type": "code",
   "execution_count": 30,
   "id": "4b9ce2de",
   "metadata": {},
   "outputs": [],
   "source": [
    "filename = \"../models/logistic_regression_model.pickle\" \n",
    "\n",
    "with open(filename, \"wb\") as file:\n",
    "        pickle.dump(grid_search_lr,file)"
   ]
  },
  {
   "cell_type": "code",
   "execution_count": 31,
   "id": "1a69c708",
   "metadata": {},
   "outputs": [],
   "source": [
    "y_test_pred_lr = pd.DataFrame(y_test_pred_lr, columns=['labels'])"
   ]
  },
  {
   "cell_type": "code",
   "execution_count": 32,
   "id": "0211e97b",
   "metadata": {},
   "outputs": [
    {
     "data": {
      "text/plain": [
       "bad        21126\n",
       "good       11080\n",
       "neutral    10947\n",
       "Name: labels, dtype: int64"
      ]
     },
     "execution_count": 32,
     "metadata": {},
     "output_type": "execute_result"
    }
   ],
   "source": [
    "y_test_pred_lr['labels'].value_counts()"
   ]
  },
  {
   "cell_type": "code",
   "execution_count": 33,
   "id": "3980cebe",
   "metadata": {},
   "outputs": [
    {
     "data": {
      "text/html": [
       "<div>\n",
       "<style scoped>\n",
       "    .dataframe tbody tr th:only-of-type {\n",
       "        vertical-align: middle;\n",
       "    }\n",
       "\n",
       "    .dataframe tbody tr th {\n",
       "        vertical-align: top;\n",
       "    }\n",
       "\n",
       "    .dataframe thead th {\n",
       "        text-align: right;\n",
       "    }\n",
       "</style>\n",
       "<table border=\"1\" class=\"dataframe\">\n",
       "  <thead>\n",
       "    <tr style=\"text-align: right;\">\n",
       "      <th></th>\n",
       "      <th>labels</th>\n",
       "    </tr>\n",
       "  </thead>\n",
       "  <tbody>\n",
       "    <tr>\n",
       "      <th>0</th>\n",
       "      <td>neutral</td>\n",
       "    </tr>\n",
       "    <tr>\n",
       "      <th>1</th>\n",
       "      <td>good</td>\n",
       "    </tr>\n",
       "    <tr>\n",
       "      <th>2</th>\n",
       "      <td>good</td>\n",
       "    </tr>\n",
       "    <tr>\n",
       "      <th>3</th>\n",
       "      <td>bad</td>\n",
       "    </tr>\n",
       "    <tr>\n",
       "      <th>4</th>\n",
       "      <td>bad</td>\n",
       "    </tr>\n",
       "  </tbody>\n",
       "</table>\n",
       "</div>"
      ],
      "text/plain": [
       "    labels\n",
       "0  neutral\n",
       "1     good\n",
       "2     good\n",
       "3      bad\n",
       "4      bad"
      ]
     },
     "execution_count": 33,
     "metadata": {},
     "output_type": "execute_result"
    }
   ],
   "source": [
    "y_test_pred_lr.head()"
   ]
  },
  {
   "cell_type": "markdown",
   "id": "6ef34ddb",
   "metadata": {},
   "source": [
    "## Naive Bayers"
   ]
  },
  {
   "cell_type": "code",
   "execution_count": 34,
   "id": "339388cb",
   "metadata": {},
   "outputs": [
    {
     "name": "stdout",
     "output_type": "stream",
     "text": [
      "Results obtained for the TRAIN SET\n",
      "==================================\n",
      "The Cohen's Kappa is: 0.54\n",
      "              precision    recall  f1-score   support\n",
      "\n",
      "         bad       0.79      0.73      0.76     44124\n",
      "        good       0.66      0.78      0.71     44124\n",
      "     neutral       0.64      0.58      0.61     44124\n",
      "\n",
      "    accuracy                           0.70    132372\n",
      "   macro avg       0.70      0.70      0.69    132372\n",
      "weighted avg       0.70      0.70      0.69    132372\n",
      "\n",
      "==================================\n",
      "Results obtained for the TEST SET\n",
      "The Cohen's Kappa is: 0.43\n",
      "              precision    recall  f1-score   support\n",
      "\n",
      "         bad       0.84      0.66      0.74     20987\n",
      "        good       0.54      0.71      0.61     11228\n",
      "     neutral       0.45      0.48      0.47     10938\n",
      "\n",
      "    accuracy                           0.63     43153\n",
      "   macro avg       0.61      0.62      0.61     43153\n",
      "weighted avg       0.66      0.63      0.64     43153\n",
      "\n"
     ]
    }
   ],
   "source": [
    "from sklearn.naive_bayes import MultinomialNB\n",
    "\n",
    "grid_nb = {'alpha': [0,0.3,0.7,1]}\n",
    "\n",
    "nb = MultinomialNB()\n",
    "\n",
    "grid_search_nb = GridSearchCV(estimator = nb, param_grid = grid_nb, cv = 5)\n",
    "\n",
    "\n",
    "grid_search_nb.fit(X_train_tf, y_train_res)\n",
    "\n",
    "y_train_pred_nb = grid_search_nb.predict(X_train_tf)\n",
    "y_test_pred_nb = grid_search_nb.predict(X_test_tf)\n",
    "\n",
    "model_performance_class(y_train_res, y_train_pred_nb, y_test, y_test_pred_nb)"
   ]
  },
  {
   "cell_type": "markdown",
   "id": "d3d91896",
   "metadata": {},
   "source": [
    "# Model comparison"
   ]
  },
  {
   "cell_type": "code",
   "execution_count": 35,
   "id": "7e4a7718",
   "metadata": {},
   "outputs": [],
   "source": [
    "kappa_train_rf = cohen_kappa_score(y_train_res, y_train_pred_rf)\n",
    "kappa_train_lr = cohen_kappa_score(y_train_res, y_train_pred_lr)\n",
    "kappa_train_nb = cohen_kappa_score(y_train_res, y_train_pred_nb)"
   ]
  },
  {
   "cell_type": "code",
   "execution_count": 36,
   "id": "26f5c5e8",
   "metadata": {},
   "outputs": [
    {
     "data": {
      "text/plain": [
       "0.45414060375305954"
      ]
     },
     "execution_count": 36,
     "metadata": {},
     "output_type": "execute_result"
    }
   ],
   "source": [
    "kappa_train_rf"
   ]
  },
  {
   "cell_type": "code",
   "execution_count": 37,
   "id": "1c39193e",
   "metadata": {},
   "outputs": [],
   "source": [
    "kappa_test_rf = cohen_kappa_score(y_test, y_test_pred_rf)\n",
    "kappa_test_lr = cohen_kappa_score(y_test, y_test_pred_lr)\n",
    "kappa_test_nb = cohen_kappa_score(y_test, y_test_pred_nb)"
   ]
  },
  {
   "cell_type": "code",
   "execution_count": 38,
   "id": "dc265b61",
   "metadata": {},
   "outputs": [
    {
     "data": {
      "text/html": [
       "<div>\n",
       "<style scoped>\n",
       "    .dataframe tbody tr th:only-of-type {\n",
       "        vertical-align: middle;\n",
       "    }\n",
       "\n",
       "    .dataframe tbody tr th {\n",
       "        vertical-align: top;\n",
       "    }\n",
       "\n",
       "    .dataframe thead th {\n",
       "        text-align: right;\n",
       "    }\n",
       "</style>\n",
       "<table border=\"1\" class=\"dataframe\">\n",
       "  <thead>\n",
       "    <tr style=\"text-align: right;\">\n",
       "      <th></th>\n",
       "      <th>model</th>\n",
       "      <th>train</th>\n",
       "      <th>test</th>\n",
       "    </tr>\n",
       "  </thead>\n",
       "  <tbody>\n",
       "    <tr>\n",
       "      <th>0</th>\n",
       "      <td>RF</td>\n",
       "      <td>0.454141</td>\n",
       "      <td>0.477645</td>\n",
       "    </tr>\n",
       "    <tr>\n",
       "      <th>1</th>\n",
       "      <td>LR</td>\n",
       "      <td>0.698690</td>\n",
       "      <td>0.630909</td>\n",
       "    </tr>\n",
       "    <tr>\n",
       "      <th>2</th>\n",
       "      <td>NB</td>\n",
       "      <td>0.543140</td>\n",
       "      <td>0.433154</td>\n",
       "    </tr>\n",
       "  </tbody>\n",
       "</table>\n",
       "</div>"
      ],
      "text/plain": [
       "  model     train      test\n",
       "0    RF  0.454141  0.477645\n",
       "1    LR  0.698690  0.630909\n",
       "2    NB  0.543140  0.433154"
      ]
     },
     "execution_count": 38,
     "metadata": {},
     "output_type": "execute_result"
    }
   ],
   "source": [
    "train_metrics = [kappa_train_rf, kappa_train_lr, kappa_train_nb]\n",
    "test_metrics = [kappa_test_rf, kappa_test_lr, kappa_test_nb]\n",
    "model_names = [\"RF\", \"LR\", \"NB\"]\n",
    "model_eval= pd.DataFrame(data = zip(model_names, train_metrics, test_metrics), columns=[\"model\", \"train\", \"test\"])\n",
    "model_eval"
   ]
  },
  {
   "cell_type": "code",
   "execution_count": 39,
   "id": "6ea09773",
   "metadata": {},
   "outputs": [
    {
     "data": {
      "image/png": "[encoded data removed]",
      "text/plain": [
       "<Figure size 800x600 with 1 Axes>"
      ]
     },
     "metadata": {},
     "output_type": "display_data"
    }
   ],
   "source": [
    "def plot_eval_metrics(model, train_list, test_list):\n",
    "    x = np.arange(len(model_names))  # the label locations\n",
    "    width = 0.25  # the width of the bars\n",
    "\n",
    "    fig, ax = plt.subplots(figsize=(8,6))\n",
    "    rects1 = ax.bar(x - width/2, [round(train,2) for train in train_list], width, label='train', color=\"sandybrown\")\n",
    "    rects2 = ax.bar(x + width/2, [round(test, 2) for test in test_list], width, label='test', color=\"lightseagreen\")\n",
    "\n",
    "    # Add some text for labels, title and custom x-axis tick labels, etc.\n",
    "    ax.set_ylabel('train')\n",
    "    ax.set_title('Cohen kappa score by model', fontsize=13)\n",
    "    ax.set_xticks(x)\n",
    "    ax.set_xticklabels(model_names)\n",
    "    ax.tick_params(axis='x', labelrotation=45)\n",
    "    ax.legend(loc=\"upper right\", bbox_to_anchor=(1.15,1))\n",
    "\n",
    "    ax.bar_label(rects1, padding=3)\n",
    "    ax.bar_label(rects2, padding=3)\n",
    "\n",
    "    fig.tight_layout()\n",
    "    plt.show()\n",
    "\n",
    "plot_eval_metrics(model_names, train_metrics,test_metrics)"
   ]
  },
  {
   "cell_type": "markdown",
   "id": "259dee02",
   "metadata": {},
   "source": [
    "- Comparing the model performance score for all three models, the prediction performance of logistic regression model is better than the other two when dealing with ChatGPT sentiment analysis."
   ]
  }
 ],
 "metadata": {
  "kernelspec": {
   "display_name": "Ironhack-Frinal-Project",
   "language": "python",
   "name": "ironhack-frinal-project"
  },
  "language_info": {
   "codemirror_mode": {
    "name": "ipython",
    "version": 3
   },
   "file_extension": ".py",
   "mimetype": "text/x-python",
   "name": "python",
   "nbconvert_exporter": "python",
   "pygments_lexer": "ipython3",
   "version": "3.9.16"
  }
 },
 "nbformat": 4,
 "nbformat_minor": 5
}
