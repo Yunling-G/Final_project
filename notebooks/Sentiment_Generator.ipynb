{
 "cells": [
  {
   "cell_type": "code",
   "execution_count": 1,
   "id": "02a32712",
   "metadata": {},
   "outputs": [
    {
     "name": "stdout",
     "output_type": "stream",
     "text": [
      "Writing sentiment_generator.py\n"
     ]
    }
   ],
   "source": [
    "%%writefile -a sentiment_generator.py\n",
    "\n",
    "import pickle\n",
    "import pandas as pd\n",
    "import numpy as np\n",
    "import re\n",
    "import string\n",
    "from nltk.corpus import stopwords\n",
    "from nltk.stem import WordNetLemmatizer\n",
    "from sklearn.feature_extraction.text import TfidfVectorizer\n",
    "from sklearn.linear_model import LogisticRegression"
   ]
  },
  {
   "cell_type": "code",
   "execution_count": 2,
   "id": "c379e26c",
   "metadata": {},
   "outputs": [
    {
     "name": "stdout",
     "output_type": "stream",
     "text": [
      "Appending to sentiment_generator.py\n"
     ]
    }
   ],
   "source": [
    "%%writefile -a sentiment_generator.py\n",
    "#define a input function\n",
    "def enter_text():\n",
    "    text = input('Please write your comment about chatGPT : ')\n",
    "    return text"
   ]
  },
  {
   "cell_type": "code",
   "execution_count": 3,
   "id": "e43ff7e4",
   "metadata": {},
   "outputs": [
    {
     "name": "stdout",
     "output_type": "stream",
     "text": [
      "Appending to sentiment_generator.py\n"
     ]
    }
   ],
   "source": [
    "%%writefile -a sentiment_generator.py\n",
    "def text_clean(text):\n",
    "    text = str(text).lower()\n",
    "    text = text.replace('\\\\n','')\n",
    "    text = re.sub('https?://\\S+|www\\.\\S+', ' ', text)\n",
    "    text = re.sub(r'\\W+',' ',text)\n",
    "    text = re.sub(r'\\s+',' ',text)\n",
    "    text = re.sub('\\[.*?\\]', '', text) \n",
    "    text = re.sub('<.*?>+', '', text)\n",
    "    text = text.replace(\"'s\", '')\n",
    "    text = re.sub('[%s]' % re.escape(string.punctuation), ' ', text)\n",
    "    text = re.sub('\\n', '', text)\n",
    "    text = re.sub('\\w*\\d\\w*', '', text)\n",
    "    text = re.sub(r'[0-9]','',text)\n",
    "    text = text.replace('chatgpt','')\n",
    "    text = re.sub(r'\\b\\w*(\\w)\\1+\\w*\\b','',text) #replace words with repeated charatecers by ''\n",
    "    text = re.sub(r'\\d+','',text) # replace one or more digits by ''\n",
    "    return text"
   ]
  },
  {
   "cell_type": "code",
   "execution_count": 4,
   "id": "16c7899e",
   "metadata": {},
   "outputs": [
    {
     "name": "stdout",
     "output_type": "stream",
     "text": [
      "Appending to sentiment_generator.py\n"
     ]
    }
   ],
   "source": [
    "%%writefile -a sentiment_generator.py\n",
    "def text_tokenization(text):\n",
    "    tokens = text.split()\n",
    "    return tokens"
   ]
  },
  {
   "cell_type": "code",
   "execution_count": 5,
   "id": "0242677d",
   "metadata": {},
   "outputs": [
    {
     "name": "stdout",
     "output_type": "stream",
     "text": [
      "Appending to sentiment_generator.py\n"
     ]
    }
   ],
   "source": [
    "%%writefile -a sentiment_generator.py\n",
    "def remove_stop_words(text):\n",
    "    tokenized_without_stop_words = []\n",
    "    for word in text:\n",
    "        if word not in stopwords.words('english'):\n",
    "            tokenized_without_stop_words.append(word)\n",
    "    return tokenized_without_stop_words"
   ]
  },
  {
   "cell_type": "code",
   "execution_count": 6,
   "id": "a3dfc501",
   "metadata": {},
   "outputs": [
    {
     "name": "stdout",
     "output_type": "stream",
     "text": [
      "Appending to sentiment_generator.py\n"
     ]
    }
   ],
   "source": [
    "%%writefile -a sentiment_generator.py\n",
    "def remove_single_char_func(text,threshold=1):\n",
    "    text_clean = []\n",
    "    for word in text:\n",
    "        if len(word) > threshold:\n",
    "            text_clean.append(word)\n",
    "    return text_clean"
   ]
  },
  {
   "cell_type": "code",
   "execution_count": 7,
   "id": "957efcaf",
   "metadata": {},
   "outputs": [
    {
     "name": "stdout",
     "output_type": "stream",
     "text": [
      "Appending to sentiment_generator.py\n"
     ]
    }
   ],
   "source": [
    "%%writefile -a sentiment_generator.py\n",
    "def text_lemmatize(text):\n",
    "    lemm = WordNetLemmatizer()\n",
    "    text_lemm = []\n",
    "    for word in text:\n",
    "        text_lemm.append(lemm.lemmatize(word))\n",
    "    return text_lemm"
   ]
  },
  {
   "cell_type": "code",
   "execution_count": 8,
   "id": "7dcd8bf3",
   "metadata": {},
   "outputs": [
    {
     "name": "stdout",
     "output_type": "stream",
     "text": [
      "Appending to sentiment_generator.py\n"
     ]
    }
   ],
   "source": [
    "%%writefile -a sentiment_generator.py\n",
    "\n",
    "def sentiment_generator():\n",
    "    # enter text\n",
    "    text = enter_text()\n",
    "    \n",
    "    # text cleaning\n",
    "    text = text_clean(text)\n",
    "\n",
    "    \n",
    "    #text tokens\n",
    "    tokens = text_tokenization(text)\n",
    "\n",
    "    \n",
    "    #remove stopwords\n",
    "    text = remove_stop_words(tokens)\n",
    "\n",
    "    \n",
    "    # remove single character\n",
    "    text = remove_single_char_func(text)\n",
    "\n",
    "  \n",
    "    # text lemmatization\n",
    "    text_lemm = text_lemmatize(text)\n",
    "\n",
    "    \n",
    "    # remove single character again\n",
    "    text_processed = remove_single_char_func(text_lemm)\n",
    "    text_processed = pd.Series(' '.join(text_processed))\n",
    "\n",
    "    \n",
    "    #generate features\n",
    "    filename = \"../vectorizer/vectorizer.pickle\" \n",
    "    with open(filename, \"rb\") as file:\n",
    "        vectorizer = pickle.load(file)\n",
    "\n",
    "    \n",
    "    X_train = vectorizer.transform(text_processed)\n",
    "\n",
    "   \n",
    "    #load the model\n",
    "    filename = '../models/logistic_regression_model.pickle'\n",
    "    with open(filename,'rb') as file:\n",
    "        model = pickle.load(file)\n",
    "    \n",
    "    #model predict\n",
    "    sentiment = model.predict(X_train)\n",
    "    \n",
    "    return f\"Your sentiment about ChatGPT is {sentiment[0]}\""
   ]
  }
 ],
 "metadata": {
  "kernelspec": {
   "display_name": "Ironhack-Frinal-Project",
   "language": "python",
   "name": "ironhack-frinal-project"
  },
  "language_info": {
   "codemirror_mode": {
    "name": "ipython",
    "version": 3
   },
   "file_extension": ".py",
   "mimetype": "text/x-python",
   "name": "python",
   "nbconvert_exporter": "python",
   "pygments_lexer": "ipython3",
   "version": "3.9.16"
  }
 },
 "nbformat": 4,
 "nbformat_minor": 5
}
